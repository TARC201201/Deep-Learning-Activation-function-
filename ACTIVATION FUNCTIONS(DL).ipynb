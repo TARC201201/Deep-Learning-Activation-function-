{
 "cells": [
  {
   "cell_type": "markdown",
   "id": "4a262257",
   "metadata": {},
   "source": [
    "# BINARY STEP FUNCTION"
   ]
  },
  {
   "cell_type": "code",
   "execution_count": 2,
   "id": "43a0d311",
   "metadata": {},
   "outputs": [],
   "source": [
    "def binary_step(x):\n",
    "    if x<0:\n",
    "        return 0\n",
    "    else:return 1"
   ]
  },
  {
   "cell_type": "code",
   "execution_count": 3,
   "id": "b5b34076",
   "metadata": {},
   "outputs": [
    {
     "data": {
      "text/plain": [
       "1"
      ]
     },
     "execution_count": 3,
     "metadata": {},
     "output_type": "execute_result"
    }
   ],
   "source": [
    "binary_step(12)"
   ]
  },
  {
   "cell_type": "code",
   "execution_count": 4,
   "id": "e4af0ccd",
   "metadata": {},
   "outputs": [
    {
     "data": {
      "text/plain": [
       "0"
      ]
     },
     "execution_count": 4,
     "metadata": {},
     "output_type": "execute_result"
    }
   ],
   "source": [
    "binary_step(-6)"
   ]
  },
  {
   "cell_type": "code",
   "execution_count": 5,
   "id": "cc67e7bc",
   "metadata": {},
   "outputs": [
    {
     "data": {
      "text/plain": [
       "1"
      ]
     },
     "execution_count": 5,
     "metadata": {},
     "output_type": "execute_result"
    }
   ],
   "source": [
    "binary_step(6)"
   ]
  },
  {
   "cell_type": "code",
   "execution_count": 7,
   "id": "18550c6a",
   "metadata": {},
   "outputs": [
    {
     "data": {
      "text/plain": [
       "0"
      ]
     },
     "execution_count": 7,
     "metadata": {},
     "output_type": "execute_result"
    }
   ],
   "source": [
    "binary_step(-8)"
   ]
  },
  {
   "cell_type": "markdown",
   "id": "e955cca0",
   "metadata": {},
   "source": [
    "# LINEAR FUNCTION"
   ]
  },
  {
   "cell_type": "code",
   "execution_count": 9,
   "id": "79104f0b",
   "metadata": {},
   "outputs": [],
   "source": [
    "def linear_function(x):\n",
    "    return 3*x"
   ]
  },
  {
   "cell_type": "code",
   "execution_count": 10,
   "id": "95fdfdeb",
   "metadata": {},
   "outputs": [
    {
     "data": {
      "text/plain": [
       "30"
      ]
     },
     "execution_count": 10,
     "metadata": {},
     "output_type": "execute_result"
    }
   ],
   "source": [
    "linear_function(10)"
   ]
  },
  {
   "cell_type": "code",
   "execution_count": 11,
   "id": "41e792fa",
   "metadata": {},
   "outputs": [
    {
     "data": {
      "text/plain": [
       "-27"
      ]
     },
     "execution_count": 11,
     "metadata": {},
     "output_type": "execute_result"
    }
   ],
   "source": [
    "linear_function(-9)"
   ]
  },
  {
   "cell_type": "code",
   "execution_count": 12,
   "id": "5f2fe2ab",
   "metadata": {},
   "outputs": [
    {
     "data": {
      "text/plain": [
       "12"
      ]
     },
     "execution_count": 12,
     "metadata": {},
     "output_type": "execute_result"
    }
   ],
   "source": [
    "linear_function(4)"
   ]
  },
  {
   "cell_type": "code",
   "execution_count": 13,
   "id": "23ca58e5",
   "metadata": {},
   "outputs": [
    {
     "data": {
      "text/plain": [
       "18"
      ]
     },
     "execution_count": 13,
     "metadata": {},
     "output_type": "execute_result"
    }
   ],
   "source": [
    "linear_function(6)"
   ]
  },
  {
   "cell_type": "markdown",
   "id": "2529da9f",
   "metadata": {},
   "source": [
    "# SIGMOID FUNCTION"
   ]
  },
  {
   "cell_type": "code",
   "execution_count": 14,
   "id": "e18aed02",
   "metadata": {},
   "outputs": [],
   "source": [
    "import numpy as np"
   ]
  },
  {
   "cell_type": "code",
   "execution_count": 15,
   "id": "d5fa5904",
   "metadata": {},
   "outputs": [],
   "source": [
    " def sigmoid_function(x):\n",
    "        z=(1/(1+np.exp(-x)))\n",
    "        return z"
   ]
  },
  {
   "cell_type": "code",
   "execution_count": 16,
   "id": "e3741097",
   "metadata": {},
   "outputs": [
    {
     "data": {
      "text/plain": [
       "0.9820137900379085"
      ]
     },
     "execution_count": 16,
     "metadata": {},
     "output_type": "execute_result"
    }
   ],
   "source": [
    "sigmoid_function(4)"
   ]
  },
  {
   "cell_type": "code",
   "execution_count": 17,
   "id": "34b01f56",
   "metadata": {},
   "outputs": [
    {
     "data": {
      "text/plain": [
       "0.01798620996209156"
      ]
     },
     "execution_count": 17,
     "metadata": {},
     "output_type": "execute_result"
    }
   ],
   "source": [
    "sigmoid_function(-4)"
   ]
  },
  {
   "cell_type": "code",
   "execution_count": 18,
   "id": "2b65d011",
   "metadata": {},
   "outputs": [
    {
     "data": {
      "text/plain": [
       "0.8807970779778823"
      ]
     },
     "execution_count": 18,
     "metadata": {},
     "output_type": "execute_result"
    }
   ],
   "source": [
    "sigmoid_function(2)"
   ]
  },
  {
   "cell_type": "code",
   "execution_count": 19,
   "id": "a1db8689",
   "metadata": {},
   "outputs": [
    {
     "data": {
      "text/plain": [
       "0.11920292202211755"
      ]
     },
     "execution_count": 19,
     "metadata": {},
     "output_type": "execute_result"
    }
   ],
   "source": [
    "sigmoid_function(-2)"
   ]
  },
  {
   "cell_type": "markdown",
   "id": "9f6296df",
   "metadata": {},
   "source": [
    "# TANH FUNCTION"
   ]
  },
  {
   "cell_type": "code",
   "execution_count": 21,
   "id": "ff6a053b",
   "metadata": {},
   "outputs": [],
   "source": [
    " def tanh_function(x):\n",
    "        z=(2/(1+np.exp(-2*x)))\n",
    "        return z"
   ]
  },
  {
   "cell_type": "code",
   "execution_count": 22,
   "id": "2e94ecd4",
   "metadata": {},
   "outputs": [
    {
     "data": {
      "text/plain": [
       "1.9999877116507956"
      ]
     },
     "execution_count": 22,
     "metadata": {},
     "output_type": "execute_result"
    }
   ],
   "source": [
    "tanh_function(6)"
   ]
  },
  {
   "cell_type": "code",
   "execution_count": 23,
   "id": "6c584a7d",
   "metadata": {},
   "outputs": [
    {
     "data": {
      "text/plain": [
       "1.2288349204429436e-05"
      ]
     },
     "execution_count": 23,
     "metadata": {},
     "output_type": "execute_result"
    }
   ],
   "source": [
    "tanh_function(-6)"
   ]
  },
  {
   "cell_type": "code",
   "execution_count": 24,
   "id": "ac34e365",
   "metadata": {},
   "outputs": [
    {
     "data": {
      "text/plain": [
       "1.9999997749296758"
      ]
     },
     "execution_count": 24,
     "metadata": {},
     "output_type": "execute_result"
    }
   ],
   "source": [
    "tanh_function(8)"
   ]
  },
  {
   "cell_type": "code",
   "execution_count": 25,
   "id": "f1508307",
   "metadata": {},
   "outputs": [
    {
     "data": {
      "text/plain": [
       "2.2507032411019e-07"
      ]
     },
     "execution_count": 25,
     "metadata": {},
     "output_type": "execute_result"
    }
   ],
   "source": [
    "tanh_function(-8)"
   ]
  },
  {
   "cell_type": "markdown",
   "id": "1b51bc69",
   "metadata": {},
   "source": [
    "# RELU FUNCTION"
   ]
  },
  {
   "cell_type": "code",
   "execution_count": 27,
   "id": "a25efade",
   "metadata": {},
   "outputs": [],
   "source": [
    "def relu_function(x):\n",
    "    if x<0:\n",
    "        return 0 \n",
    "    else:\n",
    "        return x"
   ]
  },
  {
   "cell_type": "code",
   "execution_count": 28,
   "id": "881854c2",
   "metadata": {},
   "outputs": [
    {
     "data": {
      "text/plain": [
       "5"
      ]
     },
     "execution_count": 28,
     "metadata": {},
     "output_type": "execute_result"
    }
   ],
   "source": [
    "relu_function(5)"
   ]
  },
  {
   "cell_type": "code",
   "execution_count": 29,
   "id": "58b97012",
   "metadata": {},
   "outputs": [
    {
     "data": {
      "text/plain": [
       "0"
      ]
     },
     "execution_count": 29,
     "metadata": {},
     "output_type": "execute_result"
    }
   ],
   "source": [
    "relu_function(-5)"
   ]
  },
  {
   "cell_type": "code",
   "execution_count": 30,
   "id": "89125df6",
   "metadata": {},
   "outputs": [
    {
     "data": {
      "text/plain": [
       "8"
      ]
     },
     "execution_count": 30,
     "metadata": {},
     "output_type": "execute_result"
    }
   ],
   "source": [
    "relu_function(8)"
   ]
  },
  {
   "cell_type": "code",
   "execution_count": 31,
   "id": "bb31d23b",
   "metadata": {},
   "outputs": [
    {
     "data": {
      "text/plain": [
       "0"
      ]
     },
     "execution_count": 31,
     "metadata": {},
     "output_type": "execute_result"
    }
   ],
   "source": [
    "relu_function(-8)"
   ]
  },
  {
   "cell_type": "markdown",
   "id": "440702ae",
   "metadata": {},
   "source": [
    "# LEAKY RELU FUNCTION"
   ]
  },
  {
   "cell_type": "code",
   "execution_count": 32,
   "id": "153e5bbf",
   "metadata": {},
   "outputs": [],
   "source": [
    "def leaky_relu_function(x):\n",
    "    if x<0:\n",
    "        return 0.01*x \n",
    "    else:\n",
    "        return x"
   ]
  },
  {
   "cell_type": "code",
   "execution_count": 33,
   "id": "a13875e2",
   "metadata": {},
   "outputs": [
    {
     "data": {
      "text/plain": [
       "4"
      ]
     },
     "execution_count": 33,
     "metadata": {},
     "output_type": "execute_result"
    }
   ],
   "source": [
    "leaky_relu_function(4)"
   ]
  },
  {
   "cell_type": "code",
   "execution_count": 34,
   "id": "7ed9ca2d",
   "metadata": {},
   "outputs": [
    {
     "data": {
      "text/plain": [
       "7"
      ]
     },
     "execution_count": 34,
     "metadata": {},
     "output_type": "execute_result"
    }
   ],
   "source": [
    "leaky_relu_function(7)"
   ]
  },
  {
   "cell_type": "code",
   "execution_count": 35,
   "id": "b80a0cc0",
   "metadata": {},
   "outputs": [
    {
     "data": {
      "text/plain": [
       "6"
      ]
     },
     "execution_count": 35,
     "metadata": {},
     "output_type": "execute_result"
    }
   ],
   "source": [
    "leaky_relu_function(6)"
   ]
  },
  {
   "cell_type": "code",
   "execution_count": 36,
   "id": "ad579f18",
   "metadata": {},
   "outputs": [
    {
     "data": {
      "text/plain": [
       "3"
      ]
     },
     "execution_count": 36,
     "metadata": {},
     "output_type": "execute_result"
    }
   ],
   "source": [
    "leaky_relu_function(3)"
   ]
  },
  {
   "cell_type": "markdown",
   "id": "59f7c190",
   "metadata": {},
   "source": [
    "# ELU FUNCTION"
   ]
  },
  {
   "cell_type": "code",
   "execution_count": 37,
   "id": "c7b5d674",
   "metadata": {},
   "outputs": [],
   "source": [
    "def elu_function(x,a):\n",
    "    if x<0:\n",
    "        return a*(np.exp(x)-1)\n",
    "    else:\n",
    "        return x"
   ]
  },
  {
   "cell_type": "code",
   "execution_count": 38,
   "id": "4fec3e2f",
   "metadata": {},
   "outputs": [
    {
     "data": {
      "text/plain": [
       "1"
      ]
     },
     "execution_count": 38,
     "metadata": {},
     "output_type": "execute_result"
    }
   ],
   "source": [
    "elu_function(1,2)"
   ]
  },
  {
   "cell_type": "code",
   "execution_count": 39,
   "id": "93d3af0f",
   "metadata": {},
   "outputs": [
    {
     "data": {
      "text/plain": [
       "5"
      ]
     },
     "execution_count": 39,
     "metadata": {},
     "output_type": "execute_result"
    }
   ],
   "source": [
    "elu_function(5,8)"
   ]
  },
  {
   "cell_type": "code",
   "execution_count": 40,
   "id": "fb362d17",
   "metadata": {},
   "outputs": [
    {
     "data": {
      "text/plain": [
       "-7.992704944275564"
      ]
     },
     "execution_count": 40,
     "metadata": {},
     "output_type": "execute_result"
    }
   ],
   "source": [
    "elu_function(-7,8)"
   ]
  },
  {
   "cell_type": "code",
   "execution_count": 41,
   "id": "f9f50fe4",
   "metadata": {},
   "outputs": [
    {
     "data": {
      "text/plain": [
       "-3.9900849912933345"
      ]
     },
     "execution_count": 41,
     "metadata": {},
     "output_type": "execute_result"
    }
   ],
   "source": [
    "elu_function(-6,4)"
   ]
  },
  {
   "cell_type": "markdown",
   "id": "be2156a1",
   "metadata": {},
   "source": [
    "# SWISH FUNCTION "
   ]
  },
  {
   "cell_type": "code",
   "execution_count": 42,
   "id": "ad00542d",
   "metadata": {},
   "outputs": [],
   "source": [
    "def swish_function(x):\n",
    "    return x/(1-np.exp(-x))"
   ]
  },
  {
   "cell_type": "code",
   "execution_count": 43,
   "id": "c2f10d5f",
   "metadata": {},
   "outputs": [
    {
     "data": {
      "text/plain": [
       "1.2881333612472272e-18"
      ]
     },
     "execution_count": 43,
     "metadata": {},
     "output_type": "execute_result"
    }
   ],
   "source": [
    "swish_function(-45)"
   ]
  },
  {
   "cell_type": "code",
   "execution_count": 44,
   "id": "00cd8e47",
   "metadata": {},
   "outputs": [
    {
     "data": {
      "text/plain": [
       "23.00000000236023"
      ]
     },
     "execution_count": 44,
     "metadata": {},
     "output_type": "execute_result"
    }
   ],
   "source": [
    "swish_function(23)"
   ]
  },
  {
   "cell_type": "code",
   "execution_count": 47,
   "id": "2e9e5a87",
   "metadata": {},
   "outputs": [
    {
     "data": {
      "text/plain": [
       "4.588536211171261e-06"
      ]
     },
     "execution_count": 47,
     "metadata": {},
     "output_type": "execute_result"
    }
   ],
   "source": [
    "swish_function(-15)"
   ]
  },
  {
   "cell_type": "code",
   "execution_count": 48,
   "id": "789fce4f",
   "metadata": {},
   "outputs": [
    {
     "data": {
      "text/plain": [
       "8.00268460160673"
      ]
     },
     "execution_count": 48,
     "metadata": {},
     "output_type": "execute_result"
    }
   ],
   "source": [
    "swish_function(8)"
   ]
  },
  {
   "cell_type": "markdown",
   "id": "9b6052bb",
   "metadata": {},
   "source": [
    "# SOFTMAX FUNCTION"
   ]
  },
  {
   "cell_type": "code",
   "execution_count": 49,
   "id": "48357ec4",
   "metadata": {},
   "outputs": [],
   "source": [
    "def softmax_function(x):\n",
    "    z=np.exp(x)\n",
    "    z_=z/z.sum()\n",
    "    return z_"
   ]
  },
  {
   "cell_type": "code",
   "execution_count": 51,
   "id": "609ebd09",
   "metadata": {},
   "outputs": [
    {
     "data": {
      "text/plain": [
       "array([0.65900114, 0.24243297, 0.09856589])"
      ]
     },
     "execution_count": 51,
     "metadata": {},
     "output_type": "execute_result"
    }
   ],
   "source": [
    "softmax_function([2.0,1.0,0.1])"
   ]
  },
  {
   "cell_type": "code",
   "execution_count": 52,
   "id": "621ec8f7",
   "metadata": {},
   "outputs": [
    {
     "data": {
      "text/plain": [
       "array([0.26572204, 0.72230739, 0.01197057])"
      ]
     },
     "execution_count": 52,
     "metadata": {},
     "output_type": "execute_result"
    }
   ],
   "source": [
    "softmax_function([4.0,5.0,0.9])"
   ]
  },
  {
   "cell_type": "code",
   "execution_count": 53,
   "id": "94df926a",
   "metadata": {},
   "outputs": [
    {
     "data": {
      "text/plain": [
       "array([9.97526335e-01, 2.47262058e-03, 1.04397321e-06])"
      ]
     },
     "execution_count": 53,
     "metadata": {},
     "output_type": "execute_result"
    }
   ],
   "source": [
    "softmax_function([14.0,8.0,0.23])"
   ]
  },
  {
   "cell_type": "code",
   "execution_count": 56,
   "id": "f03571d4",
   "metadata": {},
   "outputs": [
    {
     "data": {
      "text/plain": [
       "array([0.26697953, 0.7257256 , 0.00729487])"
      ]
     },
     "execution_count": 56,
     "metadata": {},
     "output_type": "execute_result"
    }
   ],
   "source": [
    "softmax_function([4.0,5.0,0.4])"
   ]
  }
 ],
 "metadata": {
  "kernelspec": {
   "display_name": "Python 3 (ipykernel)",
   "language": "python",
   "name": "python3"
  },
  "language_info": {
   "codemirror_mode": {
    "name": "ipython",
    "version": 3
   },
   "file_extension": ".py",
   "mimetype": "text/x-python",
   "name": "python",
   "nbconvert_exporter": "python",
   "pygments_lexer": "ipython3",
   "version": "3.10.9"
  }
 },
 "nbformat": 4,
 "nbformat_minor": 5
}
